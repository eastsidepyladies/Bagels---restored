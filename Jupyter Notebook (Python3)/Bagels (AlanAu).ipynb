{
 "cells": [
  {
   "cell_type": "markdown",
   "metadata": {},
   "source": [
    "# Bagels: a guessing game \n",
    "### (by Alan Au)\n",
    "\n",
    "This is a guessing game, where the computer is going to generate a random 3-digit number with non-repeating digits.\n",
    "\n",
    "The player guesses numbers, and the computer will report if any of the numbers were correct and/or in the correct position:\n",
    "\n",
    "For each correct number not in the right place, the computer will return \"Pico\".\n",
    "For each correct number in the correct place, the computer will return \"Fermi\".\n",
    "\n",
    "e.g. \"1 2 3\" is a valid number. \"3 3 4\" is not because the '3' repeats. Let's say \"1 2 3\" is our number.\n",
    "\n",
    "Now the player guesses things.\n",
    "e.g. \"2 5 7\". The computer would return \"Pico\" because \"2\" was correct but in the wrong place.\n",
    "e.g. \"1 4 6\". The computer would return \"Fermi\" because \"1\" was correct and in the right place.\n",
    "e.g. \"1 8 3\". The computer would return \"Pico Fermi\" because 1 number is correct in the wrong place, and 1 is correct in the correct place."
   ]
  },
  {
   "cell_type": "code",
   "execution_count": 1,
   "metadata": {
    "collapsed": true
   },
   "outputs": [],
   "source": [
    "# There are the imported modules that I'll use for this project.\n",
    "\n",
    "import random #for sample\n",
    "from string import digits as digits"
   ]
  },
  {
   "cell_type": "code",
   "execution_count": 2,
   "metadata": {},
   "outputs": [
    {
     "name": "stdout",
     "output_type": "stream",
     "text": [
      "[6, 0, 2]\n"
     ]
    }
   ],
   "source": [
    "# Here's a random number generator, which will return a list of 3 digits.\n",
    "\n",
    "def generate_secret():\n",
    "    numbers = list(map(int,digits))  #seed it with 0-9\n",
    "    return(random.sample(numbers,3)) #return a list of 3 random selections\n",
    " \n",
    "#let's test this locally to make sure it works\n",
    "secret_test = generate_secret()\n",
    "print(secret_test)"
   ]
  },
  {
   "cell_type": "code",
   "execution_count": 7,
   "metadata": {},
   "outputs": [],
   "source": [
    "# Let's write some functions to process guesses.\n",
    "\n",
    "# First convert the integer to a list of integers.\n",
    "def guess_to_list(int_guess):\n",
    "    str_guess = str(int_guess)\n",
    "    list_guess = []\n",
    "    for str_digit in str_guess:\n",
    "        list_guess.append(int(str_digit))\n",
    "    return(list_guess)\n",
    "\n",
    "# Here's the logic to test the list_guess vs. our secret number (also a list).\n",
    "\n",
    "def guess(int_guess, secret):\n",
    "    guess = guess_to_list(int_guess)\n",
    "    if len(guess) != len(secret):\n",
    "        print(\"Oops! Your guess should contain\", len(secret), \"digits. Please try again!\")\n",
    "        return(\"\")\n",
    "    \n",
    "    # initialize\n",
    "    pico = 0\n",
    "    fermi = 0\n",
    "    output = []\n",
    "    \n",
    "    # input processing\n",
    "    for index in range(len(guess)):\n",
    "        digit = guess[index]\n",
    "        if digit==secret[index]: #this digit is in the right spot\n",
    "            fermi += 1\n",
    "        elif digit in secret: #this digit is correct but in the wrong spot\n",
    "            pico += 1\n",
    "\n",
    "    # output processing\n",
    "    for f in range(fermi):\n",
    "        output.append(\"Fermi\")\n",
    "    for p in range(pico):\n",
    "        output.append(\"Pico\")\n",
    "    if output==[]: #no Picos or Fermis, so return Bagels\n",
    "        output.append(\"Bagels\")\n",
    "    return(\" \".join(output))\n"
   ]
  },
  {
   "cell_type": "code",
   "execution_count": 13,
   "metadata": {},
   "outputs": [],
   "source": [
    "# Here's a wrapper to run the game.\n",
    "\n",
    "def bagels():\n",
    "    secret = generate_secret()\n",
    "    done = False\n",
    "\n",
    "    while not done:\n",
    "        my_guess = input(\"Please guess a number: \")\n",
    "        if my_guess.lower()==\"hint\":\n",
    "            print(\"Shhh! The secret number is:\", \"\".join(list(map(str,secret))))\n",
    "            continue\n",
    "        if my_guess.lower()==\"quit\" or my_guess.lower()==\"exit\":\n",
    "            print(\"Okay. Thanks for playing!\")\n",
    "            return\n",
    "        result = guess(int(my_guess), secret)\n",
    "        print(result)\n",
    "        if result==\"Fermi Fermi Fermi\":\n",
    "            print(\"Congratulations, you got it right!\")\n",
    "            again = input(\"Play again (y/N)? \")\n",
    "            if again.lower()==\"y\":\n",
    "                secret = generate_secret()\n",
    "            else:\n",
    "                print(\"Okay. Thanks for playing!\")\n",
    "                done = True"
   ]
  },
  {
   "cell_type": "code",
   "execution_count": 14,
   "metadata": {},
   "outputs": [
    {
     "name": "stdout",
     "output_type": "stream",
     "text": [
      "Please guess a number: hint\n",
      "Shhh! The secret number is: 083\n",
      "Please guess a number: exit\n",
      "Okay. Thanks for playing!\n"
     ]
    }
   ],
   "source": [
    "# Let's test it out!\n",
    "bagels()"
   ]
  },
  {
   "cell_type": "code",
   "execution_count": null,
   "metadata": {
    "collapsed": true
   },
   "outputs": [],
   "source": []
  }
 ],
 "metadata": {
  "kernelspec": {
   "display_name": "Python 3",
   "language": "python",
   "name": "python3"
  },
  "language_info": {
   "codemirror_mode": {
    "name": "ipython",
    "version": 3
   },
   "file_extension": ".py",
   "mimetype": "text/x-python",
   "name": "python",
   "nbconvert_exporter": "python",
   "pygments_lexer": "ipython3",
   "version": "3.6.1"
  }
 },
 "nbformat": 4,
 "nbformat_minor": 2
}
