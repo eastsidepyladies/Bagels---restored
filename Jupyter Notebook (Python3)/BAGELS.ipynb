{
 "cells": [
  {
   "cell_type": "markdown",
   "metadata": {},
   "source": [
    "# BAGELS text game\n",
    "\n",
    "## PyLadies Nov. 6, 2017"
   ]
  },
  {
   "cell_type": "code",
   "execution_count": 40,
   "metadata": {
    "collapsed": true
   },
   "outputs": [],
   "source": [
    "# Import necessary libraries\n",
    "import random"
   ]
  },
  {
   "cell_type": "code",
   "execution_count": 72,
   "metadata": {},
   "outputs": [],
   "source": [
    "def compGuess(guess):\n",
    "    \"\"\"Compare guess with generated numbers\"\"\"\n",
    "    printStr = []\n",
    "    for i in range(3):\n",
    "        if i in guess:\n",
    "            if guess[i] == num[i]:\n",
    "                printStr.append('Fermi')\n",
    "            else:\n",
    "                printStr.append('Pico')\n",
    "    if printStr == []:\n",
    "        printStr.append('BAGELS')\n",
    "    else:\n",
    "        printStr.sort()\n",
    "    return printStr"
   ]
  },
  {
   "cell_type": "code",
   "execution_count": 73,
   "metadata": {
    "collapsed": true
   },
   "outputs": [],
   "source": [
    "def generateNum():\n",
    "    \"\"\"Randomly generate 3 number sequence\"\"\"\n",
    "    num = [0,1,2,3,4,5,6,7,8,9]\n",
    "    random.shuffle(num)\n",
    "\n",
    "    return num[0:3]"
   ]
  },
  {
   "cell_type": "code",
   "execution_count": 76,
   "metadata": {
    "collapsed": true
   },
   "outputs": [],
   "source": [
    "def BAGELS(guess):\n",
    "    num = generateNum()\n",
    "    \n",
    "    return compGuess(guess), num"
   ]
  },
  {
   "cell_type": "code",
   "execution_count": 79,
   "metadata": {},
   "outputs": [
    {
     "data": {
      "text/plain": [
       "(['Fermi', 'Pico'], [8, 9, 6])"
      ]
     },
     "execution_count": 79,
     "metadata": {},
     "output_type": "execute_result"
    }
   ],
   "source": [
    "BAGELS([1,2,3])"
   ]
  },
  {
   "cell_type": "code",
   "execution_count": null,
   "metadata": {
    "collapsed": true
   },
   "outputs": [],
   "source": []
  },
  {
   "cell_type": "code",
   "execution_count": null,
   "metadata": {
    "collapsed": true
   },
   "outputs": [],
   "source": []
  }
 ],
 "metadata": {
  "kernelspec": {
   "display_name": "Python 3",
   "language": "python",
   "name": "python3"
  },
  "language_info": {
   "codemirror_mode": {
    "name": "ipython",
    "version": 3
   },
   "file_extension": ".py",
   "mimetype": "text/x-python",
   "name": "python",
   "nbconvert_exporter": "python",
   "pygments_lexer": "ipython3",
   "version": "3.6.1"
  }
 },
 "nbformat": 4,
 "nbformat_minor": 2
}
